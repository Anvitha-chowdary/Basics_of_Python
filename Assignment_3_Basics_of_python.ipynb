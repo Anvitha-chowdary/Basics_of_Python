{
  "nbformat": 4,
  "nbformat_minor": 0,
  "metadata": {
    "colab": {
      "provenance": []
    },
    "kernelspec": {
      "name": "python3",
      "display_name": "Python 3"
    },
    "language_info": {
      "name": "python"
    }
  },
  "cells": [
    {
      "cell_type": "markdown",
      "source": [
        "Course : Data Science\n",
        "\n",
        "Student: Anvitha\n",
        "\n",
        "Roll No: 1783149\n",
        "\n",
        "Batch  : 5th June 2025 (3:00 to 5:00 PM) Hyderabad"
      ],
      "metadata": {
        "id": "xHRBTuU08nqs"
      }
    },
    {
      "cell_type": "markdown",
      "source": [
        "# **Basics of python Assignment**\n"
      ],
      "metadata": {
        "id": "N7wTVClcsPAj"
      }
    },
    {
      "cell_type": "markdown",
      "source": [
        "##1.Prime Numbers"
      ],
      "metadata": {
        "id": "CtyO-pYklhzM"
      }
    },
    {
      "cell_type": "code",
      "execution_count": null,
      "metadata": {
        "id": "1-CMaCG3q6LD",
        "colab": {
          "base_uri": "https://localhost:8080/"
        },
        "outputId": "bb638e1b-9851-430a-af59-8e18122646b7"
      },
      "outputs": [
        {
          "output_type": "stream",
          "name": "stdout",
          "text": [
            "True\n",
            "False\n"
          ]
        }
      ],
      "source": [
        "def is_prime(n):\n",
        "    if n <= 1:\n",
        "        return False\n",
        "    for i in range(2, int(n**0.5) + 1):\n",
        "        if n % i == 0:\n",
        "            return False\n",
        "    return True\n",
        "\n",
        "# Example test\n",
        "print(is_prime(7))   # Expected True\n",
        "print(is_prime(10))  # Expected False\n"
      ]
    },
    {
      "cell_type": "markdown",
      "source": [
        "##2. Product of Random Numbers"
      ],
      "metadata": {
        "id": "FGe-eqjhmYHa"
      }
    },
    {
      "cell_type": "code",
      "source": [
        "import random\n",
        "\n",
        "a = random.randint(1, 10)\n",
        "b = random.randint(1, 10)\n",
        "print(f\"What is the product of {a} and {b}?\")\n",
        "\n",
        "# For demonstration we simulate user input\n",
        "user_answer = a * b  # replace with int(input()) for real user input\n",
        "\n",
        "if user_answer == a * b:\n",
        "    print(\"Correct!\")\n",
        "else:\n",
        "    print(\"Incorrect.\")\n"
      ],
      "metadata": {
        "colab": {
          "base_uri": "https://localhost:8080/"
        },
        "id": "rkIVGY8mmBkg",
        "outputId": "f5a1c5ea-7420-48fb-9355-18348d008c52"
      },
      "execution_count": null,
      "outputs": [
        {
          "output_type": "stream",
          "name": "stdout",
          "text": [
            "What is the product of 9 and 7?\n",
            "Correct!\n"
          ]
        }
      ]
    },
    {
      "cell_type": "markdown",
      "source": [
        "##3A. Squares of Even Numbers(100-200)"
      ],
      "metadata": {
        "id": "HARrMRtdm3kG"
      }
    },
    {
      "cell_type": "code",
      "source": [
        "for i in range(100, 201):\n",
        "    if i % 2 == 0:\n",
        "        print(i, i**2)\n"
      ],
      "metadata": {
        "colab": {
          "base_uri": "https://localhost:8080/"
        },
        "id": "3rQu5OSPmwKl",
        "outputId": "438694e2-7d7a-4e28-bf9a-30947be5ea07"
      },
      "execution_count": null,
      "outputs": [
        {
          "output_type": "stream",
          "name": "stdout",
          "text": [
            "100 10000\n",
            "102 10404\n",
            "104 10816\n",
            "106 11236\n",
            "108 11664\n",
            "110 12100\n",
            "112 12544\n",
            "114 12996\n",
            "116 13456\n",
            "118 13924\n",
            "120 14400\n",
            "122 14884\n",
            "124 15376\n",
            "126 15876\n",
            "128 16384\n",
            "130 16900\n",
            "132 17424\n",
            "134 17956\n",
            "136 18496\n",
            "138 19044\n",
            "140 19600\n",
            "142 20164\n",
            "144 20736\n",
            "146 21316\n",
            "148 21904\n",
            "150 22500\n",
            "152 23104\n",
            "154 23716\n",
            "156 24336\n",
            "158 24964\n",
            "160 25600\n",
            "162 26244\n",
            "164 26896\n",
            "166 27556\n",
            "168 28224\n",
            "170 28900\n",
            "172 29584\n",
            "174 30276\n",
            "176 30976\n",
            "178 31684\n",
            "180 32400\n",
            "182 33124\n",
            "184 33856\n",
            "186 34596\n",
            "188 35344\n",
            "190 36100\n",
            "192 36864\n",
            "194 37636\n",
            "196 38416\n",
            "198 39204\n",
            "200 40000\n"
          ]
        }
      ]
    },
    {
      "cell_type": "markdown",
      "source": [
        "##3B. Squares of Odd Numbers"
      ],
      "metadata": {
        "id": "D81CMTJLnovr"
      }
    },
    {
      "cell_type": "code",
      "source": [
        "for i in range(100, 201):\n",
        "    if i % 2 != 0:\n",
        "        print(i, i**2)\n"
      ],
      "metadata": {
        "id": "OiKLh1Vkna0G",
        "colab": {
          "base_uri": "https://localhost:8080/"
        },
        "outputId": "97328337-0ef2-4337-af8e-0a7ebde6a3e3"
      },
      "execution_count": null,
      "outputs": [
        {
          "output_type": "stream",
          "name": "stdout",
          "text": [
            "101 10201\n",
            "103 10609\n",
            "105 11025\n",
            "107 11449\n",
            "109 11881\n",
            "111 12321\n",
            "113 12769\n",
            "115 13225\n",
            "117 13689\n",
            "119 14161\n",
            "121 14641\n",
            "123 15129\n",
            "125 15625\n",
            "127 16129\n",
            "129 16641\n",
            "131 17161\n",
            "133 17689\n",
            "135 18225\n",
            "137 18769\n",
            "139 19321\n",
            "141 19881\n",
            "143 20449\n",
            "145 21025\n",
            "147 21609\n",
            "149 22201\n",
            "151 22801\n",
            "153 23409\n",
            "155 24025\n",
            "157 24649\n",
            "159 25281\n",
            "161 25921\n",
            "163 26569\n",
            "165 27225\n",
            "167 27889\n",
            "169 28561\n",
            "171 29241\n",
            "173 29929\n",
            "175 30625\n",
            "177 31329\n",
            "179 32041\n",
            "181 32761\n",
            "183 33489\n",
            "185 34225\n",
            "187 34969\n",
            "189 35721\n",
            "191 36481\n",
            "193 37249\n",
            "195 38025\n",
            "197 38809\n",
            "199 39601\n"
          ]
        }
      ]
    },
    {
      "cell_type": "markdown",
      "source": [
        "##4. Word Counter"
      ],
      "metadata": {
        "id": "owZ37Iiusds3"
      }
    },
    {
      "cell_type": "code",
      "source": [
        "from collections import Counter\n",
        "\n",
        "input_text = \"This is a sample text. This text will be used to demonstrate the word counter.\"\n",
        "words = input_text.split()\n",
        "word_count = Counter(words)\n",
        "print(word_count)\n"
      ],
      "metadata": {
        "colab": {
          "base_uri": "https://localhost:8080/"
        },
        "id": "M3ewE2PZsaXY",
        "outputId": "d06c8755-d022-455d-d82f-6197421a5a25"
      },
      "execution_count": null,
      "outputs": [
        {
          "output_type": "stream",
          "name": "stdout",
          "text": [
            "Counter({'This': 2, 'is': 1, 'a': 1, 'sample': 1, 'text.': 1, 'text': 1, 'will': 1, 'be': 1, 'used': 1, 'to': 1, 'demonstrate': 1, 'the': 1, 'word': 1, 'counter.': 1})\n"
          ]
        }
      ]
    },
    {
      "cell_type": "markdown",
      "source": [
        "##5. Palindrome Check"
      ],
      "metadata": {
        "id": "iF4H1sJvsze2"
      }
    },
    {
      "cell_type": "code",
      "source": [
        "def is_palindrome(s):\n",
        "    s = ''.join(c.lower() for c in s if c.isalnum())  # normalize\n",
        "    return s == s[::-1]\n",
        "\n",
        "# Example tests\n",
        "print(is_palindrome(\"racecar\"))  # Expected True\n",
        "print(is_palindrome(\"Hello\"))    # Expected False\n"
      ],
      "metadata": {
        "colab": {
          "base_uri": "https://localhost:8080/"
        },
        "id": "NpblQlKGspAB",
        "outputId": "31b4125d-f12d-496d-ff77-9ee2c2e10a59"
      },
      "execution_count": null,
      "outputs": [
        {
          "output_type": "stream",
          "name": "stdout",
          "text": [
            "True\n",
            "False\n"
          ]
        }
      ]
    },
    {
      "cell_type": "code",
      "source": [],
      "metadata": {
        "id": "VE9WS9GctFdK"
      },
      "execution_count": null,
      "outputs": []
    }
  ]
}